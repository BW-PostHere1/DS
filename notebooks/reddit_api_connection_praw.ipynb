{
  "nbformat": 4,
  "nbformat_minor": 0,
  "metadata": {
    "colab": {
      "name": "reddit_api_connection_praw.ipynb",
      "provenance": [],
      "collapsed_sections": []
    },
    "kernelspec": {
      "name": "python3",
      "display_name": "Python 3"
    }
  },
  "cells": [
    {
      "cell_type": "markdown",
      "metadata": {
        "id": "JexwV8pECUEl",
        "colab_type": "text"
      },
      "source": [
        "Demonstrate connecting to Reddit api\n"
      ]
    },
    {
      "cell_type": "code",
      "metadata": {
        "id": "OWy8KnXME1T1",
        "colab_type": "code",
        "colab": {}
      },
      "source": [
        ""
      ],
      "execution_count": null,
      "outputs": []
    },
    {
      "cell_type": "code",
      "metadata": {
        "id": "HywM8P0iHzry",
        "colab_type": "code",
        "colab": {
          "base_uri": "https://localhost:8080/",
          "height": 323
        },
        "outputId": "dbfaf67c-ee3c-46bd-8900-2834d4eecba1"
      },
      "source": [
        "!pip install praw\n"
      ],
      "execution_count": 3,
      "outputs": [
        {
          "output_type": "stream",
          "text": [
            "Collecting praw\n",
            "\u001b[?25l  Downloading https://files.pythonhosted.org/packages/2c/15/4bcc44271afce0316c73cd2ed35f951f1363a07d4d5d5440ae5eb2baad78/praw-7.1.0-py3-none-any.whl (152kB)\n",
            "\u001b[K     |████████████████████████████████| 153kB 2.7MB/s \n",
            "\u001b[?25hCollecting websocket-client>=0.54.0\n",
            "\u001b[?25l  Downloading https://files.pythonhosted.org/packages/4c/5f/f61b420143ed1c8dc69f9eaec5ff1ac36109d52c80de49d66e0c36c3dfdf/websocket_client-0.57.0-py2.py3-none-any.whl (200kB)\n",
            "\u001b[K     |████████████████████████████████| 204kB 8.8MB/s \n",
            "\u001b[?25hCollecting prawcore<2.0,>=1.3.0\n",
            "  Downloading https://files.pythonhosted.org/packages/1d/40/b741437ce4c7b64f928513817b29c0a615efb66ab5e5e01f66fe92d2d95b/prawcore-1.5.0-py3-none-any.whl\n",
            "Collecting update-checker>=0.17\n",
            "  Downloading https://files.pythonhosted.org/packages/0c/ba/8dd7fa5f0b1c6a8ac62f8f57f7e794160c1f86f31c6d0fb00f582372a3e4/update_checker-0.18.0-py3-none-any.whl\n",
            "Requirement already satisfied: six in /usr/local/lib/python3.6/dist-packages (from websocket-client>=0.54.0->praw) (1.15.0)\n",
            "Requirement already satisfied: requests<3.0,>=2.6.0 in /usr/local/lib/python3.6/dist-packages (from prawcore<2.0,>=1.3.0->praw) (2.23.0)\n",
            "Requirement already satisfied: certifi>=2017.4.17 in /usr/local/lib/python3.6/dist-packages (from requests<3.0,>=2.6.0->prawcore<2.0,>=1.3.0->praw) (2020.6.20)\n",
            "Requirement already satisfied: idna<3,>=2.5 in /usr/local/lib/python3.6/dist-packages (from requests<3.0,>=2.6.0->prawcore<2.0,>=1.3.0->praw) (2.10)\n",
            "Requirement already satisfied: chardet<4,>=3.0.2 in /usr/local/lib/python3.6/dist-packages (from requests<3.0,>=2.6.0->prawcore<2.0,>=1.3.0->praw) (3.0.4)\n",
            "Requirement already satisfied: urllib3!=1.25.0,!=1.25.1,<1.26,>=1.21.1 in /usr/local/lib/python3.6/dist-packages (from requests<3.0,>=2.6.0->prawcore<2.0,>=1.3.0->praw) (1.24.3)\n",
            "Installing collected packages: websocket-client, prawcore, update-checker, praw\n",
            "Successfully installed praw-7.1.0 prawcore-1.5.0 update-checker-0.18.0 websocket-client-0.57.0\n"
          ],
          "name": "stdout"
        }
      ]
    },
    {
      "cell_type": "code",
      "metadata": {
        "id": "LZQN8bgDIisQ",
        "colab_type": "code",
        "colab": {
          "base_uri": "https://localhost:8080/",
          "height": 173
        },
        "outputId": "b0fece78-f871-4e21-a4cf-bf7758fd16ff"
      },
      "source": [
        "import praw\n",
        "import config_praw as pcfg\n",
        "\n",
        "reddit = praw.Reddit(client_id= pcfg.client_id,\n",
        "                     client_secret = pcfg.client_secret,\n",
        "                     username= pcfg.username, \n",
        "                     password = pcfg.password,\n",
        "                     user_agent = 'eda_nb1')\n",
        "\n",
        "r_reno = reddit.subreddit('Reno')\n",
        "\n",
        "new = r_reno.hot(limit=10)\n",
        "\n",
        "for t in new: \n",
        "  if not t.stickied:\n",
        "    print(t.title, t.selftext)\n"
      ],
      "execution_count": 4,
      "outputs": [
        {
          "output_type": "stream",
          "text": [
            "Today's sunrise from Bartley Ranch Park \n",
            "Check your home filters all. This was new a month ago. \n",
            "Last night's lightning \n",
            "Did anyone wake up to the noise of thunder? there seems to have been a large lighting storm that passed through our area at around 3:40 am to 4:48 am\n",
            "Staring at the smoky sun. \n",
            "any retail workers who can give me advice?? So I work at a craft store here in Reno and I am not very protected from customers during my job. Almost every day I deal with a customer who refuses to wear a mask and also will not leave the store when I ask them. Sometimes they make up seemingly fake medical excuses as well. Any advice on how to navigate these situations? I really don’t want to get Covid for a job that pays $10/hour.\n",
            "Window Smashing in North Valleys Just a heads up, I got my window smashed in last night (Raleigh Heights area) along with a couple of my neighbors. Nothing was taken from anyone but they only seemed to hit cars parked along the street. If anyone lives in the area and had this happen to them, please file a police report because today I was told by RPD they would only look into it if there were multiple reports in the same area.\n",
            "Is your child doing distance learning, because mines not. So my son is on A schedule which means he’s suppose to be online learning today in the hybrid model.....or so I thought. He can’t remember his login password word😕 so I called and called the school and sent an email, to try and get the password reset, to no avail. Finally I sent my older daughter to his school (because I’m at work)  to ask for a reset. When she gets to the school, they tell her my son doesn’t have school today, and when he shows up in person tomorrow he will get his password reset....has anyone else experienced this?\n"
          ],
          "name": "stdout"
        }
      ]
    },
    {
      "cell_type": "code",
      "metadata": {
        "id": "v3bWNBbQgSCd",
        "colab_type": "code",
        "colab": {
          "base_uri": "https://localhost:8080/",
          "height": 1000
        },
        "outputId": "de1ddd80-5d90-47f0-9f20-84a8ae3590bf"
      },
      "source": [
        "dir(t)"
      ],
      "execution_count": null,
      "outputs": [
        {
          "output_type": "execute_result",
          "data": {
            "text/plain": [
              "['STR_FIELD',\n",
              " '__class__',\n",
              " '__delattr__',\n",
              " '__dict__',\n",
              " '__dir__',\n",
              " '__doc__',\n",
              " '__eq__',\n",
              " '__format__',\n",
              " '__ge__',\n",
              " '__getattr__',\n",
              " '__getattribute__',\n",
              " '__gt__',\n",
              " '__hash__',\n",
              " '__init__',\n",
              " '__init_subclass__',\n",
              " '__le__',\n",
              " '__lt__',\n",
              " '__module__',\n",
              " '__ne__',\n",
              " '__new__',\n",
              " '__reduce__',\n",
              " '__reduce_ex__',\n",
              " '__repr__',\n",
              " '__setattr__',\n",
              " '__sizeof__',\n",
              " '__str__',\n",
              " '__subclasshook__',\n",
              " '__weakref__',\n",
              " '_chunk',\n",
              " '_comments',\n",
              " '_comments_by_id',\n",
              " '_fetch',\n",
              " '_fetch_data',\n",
              " '_fetch_info',\n",
              " '_fetched',\n",
              " '_kind',\n",
              " '_reddit',\n",
              " '_reset_attributes',\n",
              " '_safely_add_arguments',\n",
              " '_url_parts',\n",
              " '_vote',\n",
              " 'all_awardings',\n",
              " 'allow_live_comments',\n",
              " 'approved_at_utc',\n",
              " 'approved_by',\n",
              " 'archived',\n",
              " 'author',\n",
              " 'author_flair_background_color',\n",
              " 'author_flair_css_class',\n",
              " 'author_flair_richtext',\n",
              " 'author_flair_template_id',\n",
              " 'author_flair_text',\n",
              " 'author_flair_text_color',\n",
              " 'author_flair_type',\n",
              " 'author_fullname',\n",
              " 'author_patreon_flair',\n",
              " 'author_premium',\n",
              " 'awarders',\n",
              " 'banned_at_utc',\n",
              " 'banned_by',\n",
              " 'can_gild',\n",
              " 'can_mod_post',\n",
              " 'category',\n",
              " 'clear_vote',\n",
              " 'clicked',\n",
              " 'comment_limit',\n",
              " 'comment_sort',\n",
              " 'comments',\n",
              " 'content_categories',\n",
              " 'contest_mode',\n",
              " 'created',\n",
              " 'created_utc',\n",
              " 'crosspost',\n",
              " 'delete',\n",
              " 'disable_inbox_replies',\n",
              " 'discussion_type',\n",
              " 'distinguished',\n",
              " 'domain',\n",
              " 'downs',\n",
              " 'downvote',\n",
              " 'duplicates',\n",
              " 'edit',\n",
              " 'edited',\n",
              " 'enable_inbox_replies',\n",
              " 'flair',\n",
              " 'fullname',\n",
              " 'gild',\n",
              " 'gilded',\n",
              " 'gildings',\n",
              " 'hidden',\n",
              " 'hide',\n",
              " 'hide_score',\n",
              " 'id',\n",
              " 'id_from_url',\n",
              " 'is_crosspostable',\n",
              " 'is_meta',\n",
              " 'is_original_content',\n",
              " 'is_reddit_media_domain',\n",
              " 'is_robot_indexable',\n",
              " 'is_self',\n",
              " 'is_video',\n",
              " 'likes',\n",
              " 'link_flair_background_color',\n",
              " 'link_flair_css_class',\n",
              " 'link_flair_richtext',\n",
              " 'link_flair_text',\n",
              " 'link_flair_text_color',\n",
              " 'link_flair_type',\n",
              " 'locked',\n",
              " 'mark_visited',\n",
              " 'media',\n",
              " 'media_embed',\n",
              " 'media_only',\n",
              " 'mod',\n",
              " 'mod_note',\n",
              " 'mod_reason_by',\n",
              " 'mod_reason_title',\n",
              " 'mod_reports',\n",
              " 'name',\n",
              " 'no_follow',\n",
              " 'num_comments',\n",
              " 'num_crossposts',\n",
              " 'num_duplicates',\n",
              " 'num_reports',\n",
              " 'over_18',\n",
              " 'parent_whitelist_status',\n",
              " 'parse',\n",
              " 'permalink',\n",
              " 'pinned',\n",
              " 'post_hint',\n",
              " 'preview',\n",
              " 'pwls',\n",
              " 'quarantine',\n",
              " 'removal_reason',\n",
              " 'removed_by',\n",
              " 'removed_by_category',\n",
              " 'reply',\n",
              " 'report',\n",
              " 'report_reasons',\n",
              " 'save',\n",
              " 'saved',\n",
              " 'score',\n",
              " 'secure_media',\n",
              " 'secure_media_embed',\n",
              " 'selftext',\n",
              " 'selftext_html',\n",
              " 'send_replies',\n",
              " 'shortlink',\n",
              " 'spoiler',\n",
              " 'stickied',\n",
              " 'subreddit',\n",
              " 'subreddit_id',\n",
              " 'subreddit_name_prefixed',\n",
              " 'subreddit_subscribers',\n",
              " 'subreddit_type',\n",
              " 'suggested_sort',\n",
              " 'thumbnail',\n",
              " 'thumbnail_height',\n",
              " 'thumbnail_width',\n",
              " 'title',\n",
              " 'top_awarded_type',\n",
              " 'total_awards_received',\n",
              " 'treatment_tags',\n",
              " 'unhide',\n",
              " 'unsave',\n",
              " 'ups',\n",
              " 'upvote',\n",
              " 'upvote_ratio',\n",
              " 'url',\n",
              " 'url_overridden_by_dest',\n",
              " 'user_reports',\n",
              " 'view_count',\n",
              " 'visited',\n",
              " 'whitelist_status',\n",
              " 'wls']"
            ]
          },
          "metadata": {
            "tags": []
          },
          "execution_count": 24
        }
      ]
    }
  ]
}