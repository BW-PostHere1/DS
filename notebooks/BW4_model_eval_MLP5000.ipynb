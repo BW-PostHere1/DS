{
  "nbformat": 4,
  "nbformat_minor": 0,
  "metadata": {
    "colab": {
      "name": "BW4_model_eval_MLP5000",
      "provenance": [],
      "collapsed_sections": [],
      "machine_shape": "hm"
    },
    "kernelspec": {
      "name": "python3",
      "display_name": "Python 3"
    },
    "accelerator": "GPU"
  },
  "cells": [
    {
      "cell_type": "code",
      "metadata": {
        "id": "LtFlbJyvMXdu",
        "colab_type": "code",
        "colab": {
          "base_uri": "https://localhost:8080/",
          "height": 34
        },
        "outputId": "81917259-cc73-497e-aa1f-a2bdd4ceb093"
      },
      "source": [
        "from google.colab import drive\n",
        "drive.mount('/content/drive')"
      ],
      "execution_count": null,
      "outputs": [
        {
          "output_type": "stream",
          "text": [
            "Drive already mounted at /content/drive; to attempt to forcibly remount, call drive.mount(\"/content/drive\", force_remount=True).\n"
          ],
          "name": "stdout"
        }
      ]
    },
    {
      "cell_type": "markdown",
      "metadata": {
        "id": "_E98Xf35dwiK",
        "colab_type": "text"
      },
      "source": [
        "Process for sequential lstm on text classification \n",
        "1. clean entire corpus, removing stopwords html, and anything else specific to the DS\n",
        "2. split cleaned data into test / train (val)\n",
        "3. tokenize X, fit the transformers on train only then transform test and val\n",
        "4. encode/tokenize y, (class labels) for training * also transform to binary (onehot) MATRIX *\n",
        "5. fit and evaluate model\n",
        "6. use transformers in pipeline to allow predict to consume 'raw input' \n",
        "\n"
      ]
    },
    {
      "cell_type": "code",
      "metadata": {
        "id": "ocmyCQSLF2eZ",
        "colab_type": "code",
        "colab": {
          "base_uri": "https://localhost:8080/",
          "height": 67
        },
        "outputId": "4d3049f1-15c6-44c8-d5f3-01efa08d046b"
      },
      "source": [
        "from psutil import virtual_memory\n",
        "ram_gb = virtual_memory().total / 1e9\n",
        "print('Your runtime has {:.1f} gigabytes of available RAM\\n'.format(ram_gb))\n",
        "\n",
        "if ram_gb < 20:\n",
        "  print('To enable a high-RAM runtime, select the Runtime > \"Change runtime type\"')\n",
        "  print('menu, and then select High-RAM in the Runtime shape dropdown. Then, ')\n",
        "  print('re-execute this cell.')\n",
        "else:\n",
        "  print('You are using a high-RAM runtime!')"
      ],
      "execution_count": null,
      "outputs": [
        {
          "output_type": "stream",
          "text": [
            "Your runtime has 27.4 gigabytes of available RAM\n",
            "\n",
            "You are using a high-RAM runtime!\n"
          ],
          "name": "stdout"
        }
      ]
    },
    {
      "cell_type": "code",
      "metadata": {
        "id": "vVjz1umhEY9_",
        "colab_type": "code",
        "colab": {
          "base_uri": "https://localhost:8080/",
          "height": 67
        },
        "outputId": "5ef2c796-91b3-431c-cd13-cc3bf8c4a917"
      },
      "source": [
        "\n",
        "import re\n",
        "import tensorflow as tf\n",
        "import pandas as pd\n",
        "import numpy as np\n",
        "import nltk\n",
        "from bs4 import BeautifulSoup\n",
        "\n",
        "from tensorflow.keras.preprocessing.text import Tokenizer\n",
        "from tensorflow.keras.preprocessing.sequence import pad_sequences\n",
        "from nltk.corpus import stopwords\n",
        "\n",
        "from numpy import argmax\n",
        "from sklearn.preprocessing import LabelEncoder\n",
        "\n",
        "nltk.download('stopwords')\n",
        "STOPWORDS = set(stopwords.words('english'))\n",
        "\n",
        "print(tf.__version__)"
      ],
      "execution_count": null,
      "outputs": [
        {
          "output_type": "stream",
          "text": [
            "[nltk_data] Downloading package stopwords to /root/nltk_data...\n",
            "[nltk_data]   Package stopwords is already up-to-date!\n",
            "2.3.0\n"
          ],
          "name": "stdout"
        }
      ]
    },
    {
      "cell_type": "code",
      "metadata": {
        "id": "b9gQC0zWHE1w",
        "colab_type": "code",
        "colab": {}
      },
      "source": [
        "from sklearn.preprocessing import FunctionTransformer\n",
        "\n",
        "\n",
        "def clean_text(X):\n",
        "    \"\"\" \n",
        "        X: series\n",
        "        \n",
        "        return: np.array\n",
        "    \"\"\"\n",
        "    REPLACE_BY_SPACE_RE = re.compile('[/(){}\\[\\]\\|@,;]')\n",
        "    BAD_SYMBOLS_RE = re.compile('[^0-9a-z #+_]')\n",
        "    STOPWORDS = set(stopwords.words('english'))\n",
        "    \n",
        "    X = X.map(lambda t : BeautifulSoup(t, \"lxml\").text) # strip html tags\n",
        "    X = X.map(lambda t : t.lower()) # lowercase text\n",
        "    X = X.map(lambda t : REPLACE_BY_SPACE_RE.sub(' ', t))  # symbols by space in text\n",
        "    X = X.map(lambda t : BAD_SYMBOLS_RE.sub('', t)) # delete symbols which are in BAD_SYMBOLS_RE\n",
        "    X = X.map(lambda t : ' '.join(word for word in t.split() if word not in STOPWORDS))# delete stopwords\n",
        "    return np.array(X)\n",
        "\n",
        "text_transformer = FunctionTransformer(clean_text)\n"
      ],
      "execution_count": null,
      "outputs": []
    },
    {
      "cell_type": "markdown",
      "metadata": {
        "id": "nK4Dtm-ApzVZ",
        "colab_type": "text"
      },
      "source": [
        ""
      ]
    },
    {
      "cell_type": "code",
      "metadata": {
        "id": "8sn649JFE53o",
        "colab_type": "code",
        "colab": {}
      },
      "source": [
        "df = pd.read_csv('/content/drive/My Drive/reduced30k.tsv', sep='\\t')\n",
        "\n"
      ],
      "execution_count": null,
      "outputs": []
    },
    {
      "cell_type": "code",
      "metadata": {
        "id": "vFa5spHwA8-t",
        "colab_type": "code",
        "colab": {
          "base_uri": "https://localhost:8080/",
          "height": 34
        },
        "outputId": "77313d00-6c06-4701-c9a9-2d0b040df97a"
      },
      "source": [
        "df = df.sample(frac=.5)\n",
        "df.shape"
      ],
      "execution_count": null,
      "outputs": [
        {
          "output_type": "execute_result",
          "data": {
            "text/plain": [
              "(151950, 5)"
            ]
          },
          "metadata": {
            "tags": []
          },
          "execution_count": 6
        }
      ]
    },
    {
      "cell_type": "code",
      "metadata": {
        "id": "lAc0OImEEhBa",
        "colab_type": "code",
        "colab": {}
      },
      "source": [
        "\n",
        "from numpy import argmax\n",
        "from sklearn.preprocessing import LabelEncoder\n",
        "\n",
        "\n",
        "newdf  = df.copy()\n",
        "newdf['Text'] =newdf['title'].str.cat(newdf['selftext'], sep=' ')\n",
        "newdf = newdf[['subreddit', 'Text']]\n",
        "newdf.columns = ['Class Name', 'Text']\n",
        "\n"
      ],
      "execution_count": null,
      "outputs": []
    },
    {
      "cell_type": "code",
      "metadata": {
        "id": "hkaHcknsFDP6",
        "colab_type": "code",
        "colab": {
          "base_uri": "https://localhost:8080/",
          "height": 34
        },
        "outputId": "4999a5a0-b4b4-4546-d105-c9a5c54a4643"
      },
      "source": [
        "#need convert the labels to numeric\n",
        "# integer encode\n",
        "label_encoder = LabelEncoder()\n",
        "integer_encoded = label_encoder.fit_transform(newdf['Class Name'])\n",
        "print(integer_encoded, len(label_encoder.classes_))   \n",
        "       \n"
      ],
      "execution_count": null,
      "outputs": [
        {
          "output_type": "stream",
          "text": [
            "[871 580 911 ... 379 561 473] 1013\n"
          ],
          "name": "stdout"
        }
      ]
    },
    {
      "cell_type": "code",
      "metadata": {
        "id": "DdpuA_guFTN-",
        "colab_type": "code",
        "colab": {
          "base_uri": "https://localhost:8080/",
          "height": 212
        },
        "outputId": "10b59c9f-9774-44b1-9abe-02175cb86e81"
      },
      "source": [
        "\n",
        "training_portion = .8\n",
        "train_size = int(newdf.shape[0] * training_portion)\n",
        "\n",
        "train,test = newdf[0: train_size],newdf[train_size:]\n",
        "print(train.shape,test.shape)\n",
        "\n",
        "labels = newdf['Class Name'].tolist()   #use to train label encoder\n",
        "test.head()"
      ],
      "execution_count": null,
      "outputs": [
        {
          "output_type": "stream",
          "text": [
            "(121560, 2) (30390, 2)\n"
          ],
          "name": "stdout"
        },
        {
          "output_type": "execute_result",
          "data": {
            "text/html": [
              "<div>\n",
              "<style scoped>\n",
              "    .dataframe tbody tr th:only-of-type {\n",
              "        vertical-align: middle;\n",
              "    }\n",
              "\n",
              "    .dataframe tbody tr th {\n",
              "        vertical-align: top;\n",
              "    }\n",
              "\n",
              "    .dataframe thead th {\n",
              "        text-align: right;\n",
              "    }\n",
              "</style>\n",
              "<table border=\"1\" class=\"dataframe\">\n",
              "  <thead>\n",
              "    <tr style=\"text-align: right;\">\n",
              "      <th></th>\n",
              "      <th>Class Name</th>\n",
              "      <th>Text</th>\n",
              "    </tr>\n",
              "  </thead>\n",
              "  <tbody>\n",
              "    <tr>\n",
              "      <th>76179</th>\n",
              "      <td>callofcthulhu</td>\n",
              "      <td>Representing Cosmicism in an RPG I am an RPG g...</td>\n",
              "    </tr>\n",
              "    <tr>\n",
              "      <th>39852</th>\n",
              "      <td>neopets</td>\n",
              "      <td>Daily Dare Tip! Just saw this on Jellyneo \"Bef...</td>\n",
              "    </tr>\n",
              "    <tr>\n",
              "      <th>103825</th>\n",
              "      <td>juul</td>\n",
              "      <td>Just tried a V3 for the first time It is FAR b...</td>\n",
              "    </tr>\n",
              "    <tr>\n",
              "      <th>141753</th>\n",
              "      <td>lego</td>\n",
              "      <td>Where to pick up Lego Batman Movie Polybags? D...</td>\n",
              "    </tr>\n",
              "    <tr>\n",
              "      <th>81537</th>\n",
              "      <td>PHPhelp</td>\n",
              "      <td>Problems with a table in Cake PHP I am using C...</td>\n",
              "    </tr>\n",
              "  </tbody>\n",
              "</table>\n",
              "</div>"
            ],
            "text/plain": [
              "           Class Name                                               Text\n",
              "76179   callofcthulhu  Representing Cosmicism in an RPG I am an RPG g...\n",
              "39852         neopets  Daily Dare Tip! Just saw this on Jellyneo \"Bef...\n",
              "103825           juul  Just tried a V3 for the first time It is FAR b...\n",
              "141753           lego  Where to pick up Lego Batman Movie Polybags? D...\n",
              "81537         PHPhelp  Problems with a table in Cake PHP I am using C..."
            ]
          },
          "metadata": {
            "tags": []
          },
          "execution_count": 9
        }
      ]
    },
    {
      "cell_type": "code",
      "metadata": {
        "id": "X3l2MXZuHbWD",
        "colab_type": "code",
        "colab": {}
      },
      "source": [
        "vocab_size = 10000\n",
        "embedding_dim = 16\n",
        "max_length = 200\n",
        "trunc_type='post'\n",
        "oov_tok = \"<OOV>\"\n",
        "\n",
        "labels = newdf['Class Name'].tolist()   #use \n",
        "\n",
        "train_texts = train['Text'].tolist()\n",
        "test_texts = test['Text'].tolist()\n",
        "\n",
        "tokenizer = Tokenizer(num_words = vocab_size, oov_token=oov_tok)\n",
        "tokenizer.fit_on_texts(train_texts)   #for train\n",
        "\n",
        "word_index = tokenizer.word_index\n",
        "X_train = tokenizer.texts_to_matrix((train_texts), mode='tfidf') \n",
        "X_test = tokenizer.texts_to_matrix((test_texts), mode='tfidf') \n",
        "\n",
        "train_y = train['Class Name'].tolist()\n",
        "test_y = test['Class Name'].tolist()\n",
        "# transform labels into \n",
        "\n",
        "\n",
        "y_train = tf.keras.utils.to_categorical(label_encoder.transform(train_y))\n",
        "y_test = tf.keras.utils.to_categorical(label_encoder.transform(test_y))\n"
      ],
      "execution_count": null,
      "outputs": []
    },
    {
      "cell_type": "code",
      "metadata": {
        "id": "aW7R7UR0dcgH",
        "colab_type": "code",
        "colab": {
          "base_uri": "https://localhost:8080/",
          "height": 34
        },
        "outputId": "2ed77fbc-8a3d-47aa-fc98-8b8309e69705"
      },
      "source": [
        "X_train.shape, y_train.shape"
      ],
      "execution_count": null,
      "outputs": [
        {
          "output_type": "execute_result",
          "data": {
            "text/plain": [
              "((121560, 10000), (121560, 1013))"
            ]
          },
          "metadata": {
            "tags": []
          },
          "execution_count": 11
        }
      ]
    },
    {
      "cell_type": "code",
      "metadata": {
        "id": "13DLRsw2HjCs",
        "colab_type": "code",
        "colab": {
          "base_uri": "https://localhost:8080/",
          "height": 504
        },
        "outputId": "1ac66327-af83-44b1-f8e5-932e44b17e4e"
      },
      "source": [
        "\n",
        "model = tf.keras.Sequential()\n",
        "model.add(tf.keras.layers.Dense(350, input_shape=(vocab_size,)))\n",
        "model.add(tf.keras.layers.Dense(5000, activation='tanh',\n",
        "                             kernel_initializer='random_uniform'))\n",
        "model.add(tf.keras.layers.Dropout(.5))\n",
        "model.add(tf.keras.layers.Dense(1013, activation='softmax'))\n",
        "model.summary()\n",
        "model.compile(loss='categorical_crossentropy', optimizer='adamax', metrics=['accuracy'])\n",
        "NUM_EPOCHS = 50\n",
        "\n",
        "print(model.metrics_names)\n",
        "\n",
        "batch_size = 32\n",
        "stop = tf.keras.callbacks.EarlyStopping(patience=3,monitor='val_loss')\n",
        "history = model.fit(X_train, y_train, batch_size=batch_size, \n",
        "                    epochs=50,\n",
        "                    verbose=1,\n",
        "                    validation_split=0.1,\n",
        "                    callbacks=stop\n",
        "                    )\n",
        "score = model.evaluate(X_test, y_test, batch_size=batch_size, verbose=0)\n",
        "print('Test loss:', score[0])\n",
        "print('Test accuracy:', score[1])\n"
      ],
      "execution_count": null,
      "outputs": [
        {
          "output_type": "stream",
          "text": [
            "Model: \"sequential_1\"\n",
            "_________________________________________________________________\n",
            "Layer (type)                 Output Shape              Param #   \n",
            "=================================================================\n",
            "dense_3 (Dense)              (None, 350)               3500350   \n",
            "_________________________________________________________________\n",
            "dense_4 (Dense)              (None, 5000)              1755000   \n",
            "_________________________________________________________________\n",
            "dropout (Dropout)            (None, 5000)              0         \n",
            "_________________________________________________________________\n",
            "dense_5 (Dense)              (None, 1013)              5066013   \n",
            "=================================================================\n",
            "Total params: 10,321,363\n",
            "Trainable params: 10,321,363\n",
            "Non-trainable params: 0\n",
            "_________________________________________________________________\n",
            "[]\n",
            "Epoch 1/50\n",
            "3419/3419 [==============================] - 17s 5ms/step - loss: 3.3614 - accuracy: 0.4243 - val_loss: 1.9754 - val_accuracy: 0.6052\n",
            "Epoch 2/50\n",
            "3419/3419 [==============================] - 16s 5ms/step - loss: 1.0903 - accuracy: 0.7647 - val_loss: 1.8380 - val_accuracy: 0.6270\n",
            "Epoch 3/50\n",
            "3419/3419 [==============================] - 16s 5ms/step - loss: 0.4319 - accuracy: 0.9083 - val_loss: 1.9256 - val_accuracy: 0.6243\n",
            "Epoch 4/50\n",
            "3419/3419 [==============================] - 16s 5ms/step - loss: 0.1433 - accuracy: 0.9747 - val_loss: 2.0235 - val_accuracy: 0.6240\n",
            "Epoch 5/50\n",
            "3419/3419 [==============================] - 16s 5ms/step - loss: 0.0489 - accuracy: 0.9942 - val_loss: 2.0875 - val_accuracy: 0.6295\n",
            "Test loss: 2.085965871810913\n",
            "Test accuracy: 0.6253702044487\n"
          ],
          "name": "stdout"
        }
      ]
    },
    {
      "cell_type": "code",
      "metadata": {
        "id": "WKfKxJANIFOo",
        "colab_type": "code",
        "colab": {}
      },
      "source": [
        "model.save(\n",
        "    'cnn_model1.h5', overwrite=True, include_optimizer=True, save_format=None,\n",
        "    signatures=None, options=None\n",
        ")"
      ],
      "execution_count": null,
      "outputs": []
    }
  ]
}